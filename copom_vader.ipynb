{
 "cells": [
  {
   "cell_type": "markdown",
   "id": "63129a4b",
   "metadata": {},
   "source": [
    "## Open the PDF file and extract the data"
   ]
  },
  {
   "cell_type": "code",
   "execution_count": 205,
   "id": "ccd686e5",
   "metadata": {},
   "outputs": [],
   "source": [
    "import PyPDF2"
   ]
  },
  {
   "cell_type": "code",
   "execution_count": 206,
   "id": "23d53520",
   "metadata": {},
   "outputs": [],
   "source": [
    "# open the PDF file \n",
    "# you need to put the absolute path\n",
    "pdf_file = open('/home/andre/Desktop/DataScience/P_sentimento/Copom.pdf', 'rb')\n",
    "\n",
    "# read the PDF file with the module PyPDF2\n",
    "read_pdf = PyPDF2.PdfFileReader(pdf_file)"
   ]
  },
  {
   "cell_type": "code",
   "execution_count": 207,
   "id": "e6c9602a",
   "metadata": {},
   "outputs": [
    {
     "name": "stdout",
     "output_type": "stream",
     "text": [
      "6\n"
     ]
    }
   ],
   "source": [
    "# get the number of pages \n",
    "number_of_pages = read_pdf.getNumPages()\n",
    "print(number_of_pages)"
   ]
  },
  {
   "cell_type": "code",
   "execution_count": 208,
   "id": "8011a2c7",
   "metadata": {},
   "outputs": [],
   "source": [
    "page_content=\"\"                # define variable for using in loop.\n",
    "for page_number in range(number_of_pages):\n",
    "    page = read_pdf.getPage(page_number)\n",
    "    page_content += page.extractText()     # concate reading pages. "
   ]
  },
  {
   "cell_type": "markdown",
   "id": "c0f04c31",
   "metadata": {},
   "source": [
    "## Select the different items of the document"
   ]
  },
  {
   "cell_type": "code",
   "execution_count": 209,
   "id": "a7a6f365",
   "metadata": {},
   "outputs": [],
   "source": [
    "marcaA = page_content.find(\"A) \")   # find the position of \"A)\" into the string\n",
    "marcaB = page_content.find(\"B) \")"
   ]
  },
  {
   "cell_type": "code",
   "execution_count": 210,
   "id": "3884ed61",
   "metadata": {},
   "outputs": [],
   "source": [
    "A = page_content[marcaA:marcaB]    # Selection of the item A "
   ]
  },
  {
   "cell_type": "code",
   "execution_count": 211,
   "id": "8735d5aa",
   "metadata": {},
   "outputs": [],
   "source": [
    "marcaC = page_content.find(\"C) \")\n",
    "B = page_content[marcaB:marcaC]    # Selection of the item B"
   ]
  },
  {
   "cell_type": "code",
   "execution_count": 212,
   "id": "fedab02b",
   "metadata": {},
   "outputs": [],
   "source": [
    "marcaD = page_content.find(\"D) \")\n",
    "C = page_content[marcaC:marcaD]    # Selection of the item C"
   ]
  },
  {
   "cell_type": "code",
   "execution_count": 213,
   "id": "da1fc654",
   "metadata": {},
   "outputs": [],
   "source": [
    "D = page_content[marcaD:]          # Selection of the item D"
   ]
  },
  {
   "cell_type": "markdown",
   "id": "d76c8892",
   "metadata": {},
   "source": [
    "# I tried to remove the footnote converting the PDF file to a XML file, I have tried with three different ways, but the XML file do not obtained the tag \"Superscript Element\". So, I removed manually "
   ]
  },
  {
   "cell_type": "code",
   "execution_count": 214,
   "id": "a7d6ac83",
   "metadata": {},
   "outputs": [
    {
     "name": "stdout",
     "output_type": "stream",
     "text": [
      "['B) Cenários e análise de riscos  \\n', '7. No cenário de referência, a trajetória para a taxa de juros é extraída da pesquisa Focus e a taxa de câmbio parte de USD/BRL 5,30\\n', '2, evoluindo segundo a paridade do poder de compra (PPC). Esse cenário supõe trajetória de juros que termina 2022 em 13,75% a.a., reduz-se para 11,00% em 2023 e 8,00% em 2024. Supõe -se que o preço do petróleo segue aproximadamente a curva futura pelos próxi mos seis meses e passa a aumentar 2% ao ano posteriormente. Além disso, adota -se a hipótese de bandeira tarifária   \\n', ' \\n', '1 A menos de menção explícita em contrário, esta atualização leva em conta as mudanças ocorridas desde a reunião do Copom em junho  (247ª reunião). \\n', '2 Valor obtido pelo procedimento usual de arredondar a cotação média da taxa de câmbio USD/BRL observada nos cinco dias úteis encerrados no último dia da semana anterior à da reunião do Copom.   248ª Reunião COPOM \\n', '2 e 3 de agosto   \\n', '4    bcb.gov.br  \"amarela\" em dezembro de 2022, de 2023 e de 2024. Nesse cenário, as projeções de inflação do Copom situam-se em 6,8% para 2022, 4,6% para 20 23 e 2,7% para 2024. As projeções para a inflação de preços administrados são de -1,3% para 2022, 8,4% para 2023 e 3,6% para 2024. As projeções do cenário de referência incorporam o impacto das medidas tributárias recentemente aprovadas. Para o horizonte de seis trimestres à frente, que suaviza o efeito ano -calendário, mas incorpora os impactos secundários das medidas tributárias que incidem entre 2022 e o primeiro trimestre de 2023, a projeção de inflação acumulada em doze meses situa- se em 3,5%. O Comitê julga que a incerteza em torno das suas premissas e projeções atualmente é maior do que o usual.  8.  O Comitê avalia que o cenário inflacionário global segue desafiador. As pressões advindas tanto de uma demanda por bens persistentemente alta como de  choques de oferta ligados à guerra na Ucrânia, à política chinesa de combate à Covid-19 e às políticas que restringem o comércio  de produtos agrícolas em países produtores de commodities podem ter consequências de longo prazo e se traduzir em pressões inflacionárias mais prolongadas. No entanto, a reavaliação da demanda global futura tem provocado queda nos preços das principais commodities  assim como uma perspectiva de menor desequilíbrio no mercado de bens industriais. O Comitê nota que, ainda assim, permanecem pontos de atenção referentes a questões geopolíticas e particulares em tais mercados. \\n', '9.  O Comitê discutiu os impactos da sincronia global no processo de retirada de estímulos. O Comitê notou um ritmo mais acelerado no processo de ajuste da política monetária nas economias avançadas, assim como a determinação presente na comunicação de importantes bancos centrais em reduzir as pressões inflacionárias. Notou-se que tal movimento eleva a volatilidade dos mercados, impactando de forma heterogênea os diferentes ativos e suscita ndo um aumento na aversão a risco. Além disso, dada a persistência do processo inflacionário n as economias avançadas e as consequentes reações de vários bancos centrais , o Comitê avalia que houve um aumento da probabilidade de cenários alternativos que incorporam uma desaceleração da atividade global mais pronunciada. Concorrem nesse sentido a incerteza sobre o cenário de energia na Europa, a dinâmica de setores mais sensíveis a juros nos Estados Unidos e as perspectivas de crescimento mais gradual na China.  \\n', '10. No cenário doméstico, o Comitê avalia que políticas temporárias de apoio à renda devem trazer estímulo à demanda agregada e que o prolongamento de tais políticas pode elevar os prêmios de risco do país e as expectativas de inflação à medida que pressionam a demanda agregada e pioram a trajetória fiscal . O Comitê reitera que há vários canais pelos quais a política fiscal pode afetar a inflação, incluindo seu  efeito sobre a atividade, preços de ativos e expectativas de inflação. \\n', '11. Os dados referentes ao mercado de trabalho, em especial o volume de contratações e a taxa de desocupação, surpreenderam no período e indicam um estreitamento da estimativa do hiato do produto mais célere que o antecipado.  Entretanto, o Comitê avalia que ainda há ociosidade na economia. De todo modo, nota-se que avaliações sobre o hiato, especialmente no que tange ao componente ligado ao mercado de trabalho, estão sempre sujeitas à incerteza, especialmente em uma conjuntura como a atual em que a economia ainda se normaliza após a pandemia e onde há notável heterogeneidade setorial nesse processo. O Comitê seguirá acompanhando e analisando o hiato do produto à luz das próximas divulgações. O Comitê segue avaliando que a atividade deve desacelerar nos próximos trimestres,  quando os impactos defasados da política monetária se fizerem mais presentes.   \\n', '12.  O Comitê ressalta que, em seus cenários para a inflação, permanecem fatores de risco em ambas as direções. Entre os riscos de alta para o cenário inflacionário e as expectativas de inflação, destacam -se (i) uma maior persistência das pressões inflacionárias globais; e (ii) a incerteza sobre o futuro do arcabouço fiscal do país e estímulos fiscais adicionais que impliquem sustentação da demanda agregada, parcialmente incorporados nas expectativas de inflação e nos preços de ativos. Entre os  248ª Reunião COPOM \\n', '2 e 3 de agosto   \\n', '5    bcb.gov.br  riscos de baixa, ressaltam-se (i) uma possível reversão, ainda que parcial, do aumento nos preços das commodities  internacionais em moeda local; e (ii) uma desaceleração da atividade econômica mais acentuada do que a projetada. O Comitê pondera que a possibilidade de que medidas fiscais de estímulo à demanda se tornem permanentes acentua os riscos de alta para o cenário inflacionário. Por outro lado, nota que o aumento do risco de desaceleração da economia global também acentua os riscos de baixa. O Comitê avalia que a co njuntura ainda particularmente incerta e volátil requer serenidade na avaliação dos riscos.   ']\n"
     ]
    }
   ],
   "source": [
    "# Item B is the only with footnote\n",
    "# Create a list with the lines of the text \n",
    "lista_linhas = B.splitlines(True)\n",
    "print (lista_linhas) "
   ]
  },
  {
   "cell_type": "code",
   "execution_count": 215,
   "id": "1bc718b7",
   "metadata": {},
   "outputs": [
    {
     "name": "stdout",
     "output_type": "stream",
     "text": [
      "1 A menos de menção explícita em contrário, esta atualização leva em conta as mudanças ocorridas desde a reunião do Copom em junho  (247ª reunião). \n",
      "\n",
      "2 Valor obtido pelo procedimento usual de arredondar a cotação média da taxa de câmbio USD/BRL observada nos cinco dias úteis encerrados no último dia da semana anterior à da reunião do Copom.   248ª Reunião COPOM \n",
      "\n",
      "['B) Cenários e análise de riscos  \\n', '7. No cenário de referência, a trajetória para a taxa de juros é extraída da pesquisa Focus e a taxa de câmbio parte de USD/BRL 5,30\\n', '2, evoluindo segundo a paridade do poder de compra (PPC). Esse cenário supõe trajetória de juros que termina 2022 em 13,75% a.a., reduz-se para 11,00% em 2023 e 8,00% em 2024. Supõe -se que o preço do petróleo segue aproximadamente a curva futura pelos próxi mos seis meses e passa a aumentar 2% ao ano posteriormente. Além disso, adota -se a hipótese de bandeira tarifária   \\n', ' \\n', '2 e 3 de agosto   \\n', '4    bcb.gov.br  \"amarela\" em dezembro de 2022, de 2023 e de 2024. Nesse cenário, as projeções de inflação do Copom situam-se em 6,8% para 2022, 4,6% para 20 23 e 2,7% para 2024. As projeções para a inflação de preços administrados são de -1,3% para 2022, 8,4% para 2023 e 3,6% para 2024. As projeções do cenário de referência incorporam o impacto das medidas tributárias recentemente aprovadas. Para o horizonte de seis trimestres à frente, que suaviza o efeito ano -calendário, mas incorpora os impactos secundários das medidas tributárias que incidem entre 2022 e o primeiro trimestre de 2023, a projeção de inflação acumulada em doze meses situa- se em 3,5%. O Comitê julga que a incerteza em torno das suas premissas e projeções atualmente é maior do que o usual.  8.  O Comitê avalia que o cenário inflacionário global segue desafiador. As pressões advindas tanto de uma demanda por bens persistentemente alta como de  choques de oferta ligados à guerra na Ucrânia, à política chinesa de combate à Covid-19 e às políticas que restringem o comércio  de produtos agrícolas em países produtores de commodities podem ter consequências de longo prazo e se traduzir em pressões inflacionárias mais prolongadas. No entanto, a reavaliação da demanda global futura tem provocado queda nos preços das principais commodities  assim como uma perspectiva de menor desequilíbrio no mercado de bens industriais. O Comitê nota que, ainda assim, permanecem pontos de atenção referentes a questões geopolíticas e particulares em tais mercados. \\n', '9.  O Comitê discutiu os impactos da sincronia global no processo de retirada de estímulos. O Comitê notou um ritmo mais acelerado no processo de ajuste da política monetária nas economias avançadas, assim como a determinação presente na comunicação de importantes bancos centrais em reduzir as pressões inflacionárias. Notou-se que tal movimento eleva a volatilidade dos mercados, impactando de forma heterogênea os diferentes ativos e suscita ndo um aumento na aversão a risco. Além disso, dada a persistência do processo inflacionário n as economias avançadas e as consequentes reações de vários bancos centrais , o Comitê avalia que houve um aumento da probabilidade de cenários alternativos que incorporam uma desaceleração da atividade global mais pronunciada. Concorrem nesse sentido a incerteza sobre o cenário de energia na Europa, a dinâmica de setores mais sensíveis a juros nos Estados Unidos e as perspectivas de crescimento mais gradual na China.  \\n', '10. No cenário doméstico, o Comitê avalia que políticas temporárias de apoio à renda devem trazer estímulo à demanda agregada e que o prolongamento de tais políticas pode elevar os prêmios de risco do país e as expectativas de inflação à medida que pressionam a demanda agregada e pioram a trajetória fiscal . O Comitê reitera que há vários canais pelos quais a política fiscal pode afetar a inflação, incluindo seu  efeito sobre a atividade, preços de ativos e expectativas de inflação. \\n', '11. Os dados referentes ao mercado de trabalho, em especial o volume de contratações e a taxa de desocupação, surpreenderam no período e indicam um estreitamento da estimativa do hiato do produto mais célere que o antecipado.  Entretanto, o Comitê avalia que ainda há ociosidade na economia. De todo modo, nota-se que avaliações sobre o hiato, especialmente no que tange ao componente ligado ao mercado de trabalho, estão sempre sujeitas à incerteza, especialmente em uma conjuntura como a atual em que a economia ainda se normaliza após a pandemia e onde há notável heterogeneidade setorial nesse processo. O Comitê seguirá acompanhando e analisando o hiato do produto à luz das próximas divulgações. O Comitê segue avaliando que a atividade deve desacelerar nos próximos trimestres,  quando os impactos defasados da política monetária se fizerem mais presentes.   \\n', '12.  O Comitê ressalta que, em seus cenários para a inflação, permanecem fatores de risco em ambas as direções. Entre os riscos de alta para o cenário inflacionário e as expectativas de inflação, destacam -se (i) uma maior persistência das pressões inflacionárias globais; e (ii) a incerteza sobre o futuro do arcabouço fiscal do país e estímulos fiscais adicionais que impliquem sustentação da demanda agregada, parcialmente incorporados nas expectativas de inflação e nos preços de ativos. Entre os  248ª Reunião COPOM \\n', '2 e 3 de agosto   \\n', '5    bcb.gov.br  riscos de baixa, ressaltam-se (i) uma possível reversão, ainda que parcial, do aumento nos preços das commodities  internacionais em moeda local; e (ii) uma desaceleração da atividade econômica mais acentuada do que a projetada. O Comitê pondera que a possibilidade de que medidas fiscais de estímulo à demanda se tornem permanentes acentua os riscos de alta para o cenário inflacionário. Por outro lado, nota que o aumento do risco de desaceleração da economia global também acentua os riscos de baixa. O Comitê avalia que a co njuntura ainda particularmente incerta e volátil requer serenidade na avaliação dos riscos.   ']\n"
     ]
    }
   ],
   "source": [
    "print(lista_linhas[4])\n",
    "del lista_linhas[4]\n",
    "update_lista = lista_linhas\n",
    "\n",
    "print(update_lista[4])\n",
    "del update_lista[4]\n",
    "update_lista0 = update_lista\n",
    "\n",
    "print(update_lista0)"
   ]
  },
  {
   "cell_type": "code",
   "execution_count": 216,
   "id": "8e2beb28",
   "metadata": {},
   "outputs": [
    {
     "name": "stdout",
     "output_type": "stream",
     "text": [
      "['B) Cenários e análise de riscos  \\n7. No cenário de referência, a trajetória para a taxa de juros é extraída da pesquisa Focus e a taxa de câmbio parte de USD/BRL 5,30\\n2, evoluindo segundo a paridade do poder de compra (PPC). Esse cenário supõe trajetória de juros que termina 2022 em 13,75% a.a., reduz-se para 11,00% em 2023 e 8,00% em 2024. Supõe -se que o preço do petróleo segue aproximadamente a curva futura pelos próxi mos seis meses e passa a aumentar 2% ao ano posteriormente. Além disso, adota -se a hipótese de bandeira tarifária   \\n \\n2 e 3 de agosto   \\n4    bcb.gov.br  \"amarela\" em dezembro de 2022, de 2023 e de 2024. Nesse cenário, as projeções de inflação do Copom situam-se em 6,8% para 2022, 4,6% para 20 23 e 2,7% para 2024. As projeções para a inflação de preços administrados são de -1,3% para 2022, 8,4% para 2023 e 3,6% para 2024. As projeções do cenário de referência incorporam o impacto das medidas tributárias recentemente aprovadas. Para o horizonte de seis trimestres à frente, que suaviza o efeito ano -calendário, mas incorpora os impactos secundários das medidas tributárias que incidem entre 2022 e o primeiro trimestre de 2023, a projeção de inflação acumulada em doze meses situa- se em 3,5%. O Comitê julga que a incerteza em torno das suas premissas e projeções atualmente é maior do que o usual.  8.  O Comitê avalia que o cenário inflacionário global segue desafiador. As pressões advindas tanto de uma demanda por bens persistentemente alta como de  choques de oferta ligados à guerra na Ucrânia, à política chinesa de combate à Covid-19 e às políticas que restringem o comércio  de produtos agrícolas em países produtores de commodities podem ter consequências de longo prazo e se traduzir em pressões inflacionárias mais prolongadas. No entanto, a reavaliação da demanda global futura tem provocado queda nos preços das principais commodities  assim como uma perspectiva de menor desequilíbrio no mercado de bens industriais. O Comitê nota que, ainda assim, permanecem pontos de atenção referentes a questões geopolíticas e particulares em tais mercados. \\n9.  O Comitê discutiu os impactos da sincronia global no processo de retirada de estímulos. O Comitê notou um ritmo mais acelerado no processo de ajuste da política monetária nas economias avançadas, assim como a determinação presente na comunicação de importantes bancos centrais em reduzir as pressões inflacionárias. Notou-se que tal movimento eleva a volatilidade dos mercados, impactando de forma heterogênea os diferentes ativos e suscita ndo um aumento na aversão a risco. Além disso, dada a persistência do processo inflacionário n as economias avançadas e as consequentes reações de vários bancos centrais , o Comitê avalia que houve um aumento da probabilidade de cenários alternativos que incorporam uma desaceleração da atividade global mais pronunciada. Concorrem nesse sentido a incerteza sobre o cenário de energia na Europa, a dinâmica de setores mais sensíveis a juros nos Estados Unidos e as perspectivas de crescimento mais gradual na China.  \\n10. No cenário doméstico, o Comitê avalia que políticas temporárias de apoio à renda devem trazer estímulo à demanda agregada e que o prolongamento de tais políticas pode elevar os prêmios de risco do país e as expectativas de inflação à medida que pressionam a demanda agregada e pioram a trajetória fiscal . O Comitê reitera que há vários canais pelos quais a política fiscal pode afetar a inflação, incluindo seu  efeito sobre a atividade, preços de ativos e expectativas de inflação. \\n11. Os dados referentes ao mercado de trabalho, em especial o volume de contratações e a taxa de desocupação, surpreenderam no período e indicam um estreitamento da estimativa do hiato do produto mais célere que o antecipado.  Entretanto, o Comitê avalia que ainda há ociosidade na economia. De todo modo, nota-se que avaliações sobre o hiato, especialmente no que tange ao componente ligado ao mercado de trabalho, estão sempre sujeitas à incerteza, especialmente em uma conjuntura como a atual em que a economia ainda se normaliza após a pandemia e onde há notável heterogeneidade setorial nesse processo. O Comitê seguirá acompanhando e analisando o hiato do produto à luz das próximas divulgações. O Comitê segue avaliando que a atividade deve desacelerar nos próximos trimestres,  quando os impactos defasados da política monetária se fizerem mais presentes.   \\n12.  O Comitê ressalta que, em seus cenários para a inflação, permanecem fatores de risco em ambas as direções. Entre os riscos de alta para o cenário inflacionário e as expectativas de inflação, destacam -se (i) uma maior persistência das pressões inflacionárias globais; e (ii) a incerteza sobre o futuro do arcabouço fiscal do país e estímulos fiscais adicionais que impliquem sustentação da demanda agregada, parcialmente incorporados nas expectativas de inflação e nos preços de ativos. Entre os  248ª Reunião COPOM \\n2 e 3 de agosto   \\n5    bcb.gov.br  riscos de baixa, ressaltam-se (i) uma possível reversão, ainda que parcial, do aumento nos preços das commodities  internacionais em moeda local; e (ii) uma desaceleração da atividade econômica mais acentuada do que a projetada. O Comitê pondera que a possibilidade de que medidas fiscais de estímulo à demanda se tornem permanentes acentua os riscos de alta para o cenário inflacionário. Por outro lado, nota que o aumento do risco de desaceleração da economia global também acentua os riscos de baixa. O Comitê avalia que a co njuntura ainda particularmente incerta e volátil requer serenidade na avaliação dos riscos.   ']\n"
     ]
    }
   ],
   "source": [
    "separator = ''\n",
    "result = [separator.join(update_lista0)]\n",
    "print(result)"
   ]
  },
  {
   "cell_type": "code",
   "execution_count": 217,
   "id": "5f62ce22",
   "metadata": {},
   "outputs": [
    {
     "name": "stdout",
     "output_type": "stream",
     "text": [
      "B) Cenários e análise de riscos  \n",
      "7. No cenário de referência, a trajetória para a taxa de juros é extraída da pesquisa Focus e a taxa de câmbio parte de USD/BRL 5,30\n",
      "2, evoluindo segundo a paridade do poder de compra (PPC). Esse cenário supõe trajetória de juros que termina 2022 em 13,75% a.a., reduz-se para 11,00% em 2023 e 8,00% em 2024. Supõe -se que o preço do petróleo segue aproximadamente a curva futura pelos próxi mos seis meses e passa a aumentar 2% ao ano posteriormente. Além disso, adota -se a hipótese de bandeira tarifária   \n",
      " \n",
      "2 e 3 de agosto   \n",
      "4    bcb.gov.br  \"amarela\" em dezembro de 2022, de 2023 e de 2024. Nesse cenário, as projeções de inflação do Copom situam-se em 6,8% para 2022, 4,6% para 20 23 e 2,7% para 2024. As projeções para a inflação de preços administrados são de -1,3% para 2022, 8,4% para 2023 e 3,6% para 2024. As projeções do cenário de referência incorporam o impacto das medidas tributárias recentemente aprovadas. Para o horizonte de seis trimestres à frente, que suaviza o efeito ano -calendário, mas incorpora os impactos secundários das medidas tributárias que incidem entre 2022 e o primeiro trimestre de 2023, a projeção de inflação acumulada em doze meses situa- se em 3,5%. O Comitê julga que a incerteza em torno das suas premissas e projeções atualmente é maior do que o usual.  8.  O Comitê avalia que o cenário inflacionário global segue desafiador. As pressões advindas tanto de uma demanda por bens persistentemente alta como de  choques de oferta ligados à guerra na Ucrânia, à política chinesa de combate à Covid-19 e às políticas que restringem o comércio  de produtos agrícolas em países produtores de commodities podem ter consequências de longo prazo e se traduzir em pressões inflacionárias mais prolongadas. No entanto, a reavaliação da demanda global futura tem provocado queda nos preços das principais commodities  assim como uma perspectiva de menor desequilíbrio no mercado de bens industriais. O Comitê nota que, ainda assim, permanecem pontos de atenção referentes a questões geopolíticas e particulares em tais mercados. \n",
      "9.  O Comitê discutiu os impactos da sincronia global no processo de retirada de estímulos. O Comitê notou um ritmo mais acelerado no processo de ajuste da política monetária nas economias avançadas, assim como a determinação presente na comunicação de importantes bancos centrais em reduzir as pressões inflacionárias. Notou-se que tal movimento eleva a volatilidade dos mercados, impactando de forma heterogênea os diferentes ativos e suscita ndo um aumento na aversão a risco. Além disso, dada a persistência do processo inflacionário n as economias avançadas e as consequentes reações de vários bancos centrais , o Comitê avalia que houve um aumento da probabilidade de cenários alternativos que incorporam uma desaceleração da atividade global mais pronunciada. Concorrem nesse sentido a incerteza sobre o cenário de energia na Europa, a dinâmica de setores mais sensíveis a juros nos Estados Unidos e as perspectivas de crescimento mais gradual na China.  \n",
      "10. No cenário doméstico, o Comitê avalia que políticas temporárias de apoio à renda devem trazer estímulo à demanda agregada e que o prolongamento de tais políticas pode elevar os prêmios de risco do país e as expectativas de inflação à medida que pressionam a demanda agregada e pioram a trajetória fiscal . O Comitê reitera que há vários canais pelos quais a política fiscal pode afetar a inflação, incluindo seu  efeito sobre a atividade, preços de ativos e expectativas de inflação. \n",
      "11. Os dados referentes ao mercado de trabalho, em especial o volume de contratações e a taxa de desocupação, surpreenderam no período e indicam um estreitamento da estimativa do hiato do produto mais célere que o antecipado.  Entretanto, o Comitê avalia que ainda há ociosidade na economia. De todo modo, nota-se que avaliações sobre o hiato, especialmente no que tange ao componente ligado ao mercado de trabalho, estão sempre sujeitas à incerteza, especialmente em uma conjuntura como a atual em que a economia ainda se normaliza após a pandemia e onde há notável heterogeneidade setorial nesse processo. O Comitê seguirá acompanhando e analisando o hiato do produto à luz das próximas divulgações. O Comitê segue avaliando que a atividade deve desacelerar nos próximos trimestres,  quando os impactos defasados da política monetária se fizerem mais presentes.   \n",
      "12.  O Comitê ressalta que, em seus cenários para a inflação, permanecem fatores de risco em ambas as direções. Entre os riscos de alta para o cenário inflacionário e as expectativas de inflação, destacam -se (i) uma maior persistência das pressões inflacionárias globais; e (ii) a incerteza sobre o futuro do arcabouço fiscal do país e estímulos fiscais adicionais que impliquem sustentação da demanda agregada, parcialmente incorporados nas expectativas de inflação e nos preços de ativos. Entre os  248ª Reunião COPOM \n",
      "2 e 3 de agosto   \n",
      "5    bcb.gov.br  riscos de baixa, ressaltam-se (i) uma possível reversão, ainda que parcial, do aumento nos preços das commodities  internacionais em moeda local; e (ii) uma desaceleração da atividade econômica mais acentuada do que a projetada. O Comitê pondera que a possibilidade de que medidas fiscais de estímulo à demanda se tornem permanentes acentua os riscos de alta para o cenário inflacionário. Por outro lado, nota que o aumento do risco de desaceleração da economia global também acentua os riscos de baixa. O Comitê avalia que a co njuntura ainda particularmente incerta e volátil requer serenidade na avaliação dos riscos.   \n"
     ]
    }
   ],
   "source": [
    "B = \"\".join(result)\n",
    "print(B) # convert the original format"
   ]
  },
  {
   "cell_type": "markdown",
   "id": "e181b4e3",
   "metadata": {},
   "source": [
    "## Removing elements not belonging to the text items of interest, such as header, date, and links"
   ]
  },
  {
   "cell_type": "code",
   "execution_count": 218,
   "id": "14ea63ae",
   "metadata": {},
   "outputs": [],
   "source": [
    "items = {1: \"A\", 2: \"B\", 3: \"C\", 4: \"D\"}   # The items collected from the text"
   ]
  },
  {
   "cell_type": "code",
   "execution_count": 219,
   "id": "f67ebe82",
   "metadata": {},
   "outputs": [],
   "source": [
    "def remove_noise(g):\n",
    "\n",
    "    xi = parte_texto.split()\n",
    "\n",
    "\n",
    "    def retira248():\n",
    "        r0 = \"248ª\"\n",
    "        r1 = \"Reunião\"\n",
    "        r2 = \"COPOM\"\n",
    "        if r0 in xi:\n",
    "            indice = xi.index(r0)  # Capture the index (position) of the string\n",
    "            ir1 = indice+1\n",
    "            ir2 = indice+2\n",
    "            if r1 in xi[ir1] and r2 in xi[ir2]:\n",
    "                xi.remove(r0)\n",
    "                xi.remove(r1)\n",
    "                xi.remove(r2)\n",
    "\n",
    "    retira248() \n",
    "    \n",
    "    def retiradata():\n",
    "        r0 = \"2\"\n",
    "        r1 = \"e\"\n",
    "        r2 = \"3\"\n",
    "        r3 = \"de\"\n",
    "        r4 = \"agosto\"\n",
    "        if r0 in xi:\n",
    "            indice = xi.index(r0)  # Capture the index (position) of the string\n",
    "            ir1 = indice+1\n",
    "            ir2 = indice+2\n",
    "            ir3 = indice+3\n",
    "            ir4 = indice+4\n",
    "            if r1 in xi[ir1] and r2 in xi[ir2] and r3 in xi[ir3] and r4 in xi[ir4]:\n",
    "                xi.remove(r0)\n",
    "                xi.remove(r1)\n",
    "                xi.remove(r2)\n",
    "                xi.remove(r3)\n",
    "                xi.remove(r4)\n",
    "         \n",
    "    retiradata() \n",
    "    \n",
    "    def retirabcb():\n",
    "        b0 = \"bcb.gov.br\"\n",
    "        if b0 in xi:\n",
    "            indice1 = xi.index(b0)  # Capture the index (position) of the string\n",
    "            xi.remove(b0)\n",
    "         \n",
    "    retirabcb() \n",
    "    \n",
    "    separator = ' '\n",
    "    result = [separator.join(xi)]\n",
    "    print(result)\n",
    "\n",
    "    df1 = 'items_'\n",
    "    df3 = '.txt'\n",
    "           \n",
    "    minuscula = xi[0][0].lower()\n",
    "    nome_arquivo = df1+minuscula+df3\n",
    "    selecao = open(nome_arquivo, 'w')\n",
    "    selecao.write(str(result))\n",
    "    selecao.close()"
   ]
  },
  {
   "cell_type": "code",
   "execution_count": 220,
   "id": "853fbb65",
   "metadata": {},
   "outputs": [
    {
     "name": "stdout",
     "output_type": "stream",
     "text": [
      "['A) Atualização da conjuntura econômica e do cenário do Copom1 1. O ambiente externo mantém- se adverso e volátil, com maiores revisões negativas para o crescimento global, em um ambiente inflacionário ainda pressionado . 2. O crescimento de grandes economias tem sido revisado para baixo, tanto para este quanto para o próximo ano, em função da expectativa de continuidade da reversão dos estímulos implementados durante o longo período da pandemia, em particular os de política monetária. Além disso, a guerra na Ucrânia gera impactos sobre o fornecimento de gás natural, adicionando incerteza sobre o cenário econômico europeu, enquanto a deterioração do setor imobiliário , aliada à política de combate à Covid-19, impactam negativamente as perspectivas de crescimento chinesas. 3. As taxas de inflação de algumas economias avançadas divulgadas no período sugerem pressões ainda fortes, mas já se observa uma normalização incipiente nas cadeias de suprimento e uma acomodação nos preços das principais commodities no período recente. Aliada à recomposição nos estoques de produtos industrializados, esses desenvolvimentos podem implicar moderação nas pressões inflacionárias ligadas a bens. Por outro lado, o grau de ociosidade do mercado de trabalho nessas economias sugere que pressões inflacionárias no setor de serviços podem demorar a se dissipar . 4. Bancos centrais de países desenvolvidos e emergentes têm adotado uma postura mais contracionista em reação ao avanço da inflação . A aceleração do processo de normalização da política monetária nos países avançados , o aumento da aversão a risco e a mudança da perspectiva de crescimento econômico têm impactado as condições financeiras tanto de países avançados quanto de emergentes, com efeito sobre a volatilidade dos ativos e as expectativas de crescimento econômico . O Comitê segue acompanhando os riscos em torno de uma desaceleração global em ambiente de inflação significativamente pressionada. 5. No âmbito doméstico, o conjunto dos indicadores de atividade econômica divulgado desde a última reunião do Copom segue indicando crescimento ao longo do segundo trimestre, com uma retomada no mercado de trabalho mais forte do que era esperada pelo Comitê. Tanto os indicadores referentes à contratação de emprego formal quanto as taxas de ocupação e desocupação sugerem uma normalização rápida dos setores intensivos em trabalho após a pandemia. 6. A inflação ao consumidor segue elevada, com alta disseminada entre vários componentes, se mostrando mais persistente que o antecipado. A redução de impostos sobre os preços de energia já começa a ser observad a nos indicadores de alta frequência, mas os componentes mais sensíveis ao ciclo econômico e à política monetária, que apresentam maior inércia inflacionária, mantêm-se acima do intervalo compatível com o cumprimento da meta para a inflação. As expectativas de inflação para 2022, 2023 e 2024 apuradas pela pesquisa Focus encontram -se em torno de 7,2%, 5,3% e 3,3%, respectivamente.']\n",
      "['B) Cenários análise riscos 7. No cenário de referência, a trajetória para a taxa de juros é extraída da pesquisa Focus e a taxa de câmbio parte de USD/BRL 5,30 2, evoluindo segundo a paridade do poder de compra (PPC). Esse cenário supõe trajetória de juros que termina 2022 em 13,75% a.a., reduz-se para 11,00% em 2023 e 8,00% em 2024. Supõe -se que o preço do petróleo segue aproximadamente a curva futura pelos próxi mos seis meses e passa a aumentar 2% ao ano posteriormente. Além disso, adota -se a hipótese de bandeira tarifária e de 4 \"amarela\" em dezembro de 2022, de 2023 e de 2024. Nesse cenário, as projeções de inflação do Copom situam-se em 6,8% para 2022, 4,6% para 20 23 e 2,7% para 2024. As projeções para a inflação de preços administrados são de -1,3% para 2022, 8,4% para 2023 e 3,6% para 2024. As projeções do cenário de referência incorporam o impacto das medidas tributárias recentemente aprovadas. Para o horizonte de seis trimestres à frente, que suaviza o efeito ano -calendário, mas incorpora os impactos secundários das medidas tributárias que incidem entre 2022 e o primeiro trimestre de 2023, a projeção de inflação acumulada em doze meses situa- se em 3,5%. O Comitê julga que a incerteza em torno das suas premissas e projeções atualmente é maior do que o usual. 8. O Comitê avalia que o cenário inflacionário global segue desafiador. As pressões advindas tanto de uma demanda por bens persistentemente alta como de choques de oferta ligados à guerra na Ucrânia, à política chinesa de combate à Covid-19 e às políticas que restringem o comércio de produtos agrícolas em países produtores de commodities podem ter consequências de longo prazo e se traduzir em pressões inflacionárias mais prolongadas. No entanto, a reavaliação da demanda global futura tem provocado queda nos preços das principais commodities assim como uma perspectiva de menor desequilíbrio no mercado de bens industriais. O Comitê nota que, ainda assim, permanecem pontos de atenção referentes a questões geopolíticas e particulares em tais mercados. 9. O Comitê discutiu os impactos da sincronia global no processo de retirada de estímulos. O Comitê notou um ritmo mais acelerado no processo de ajuste da política monetária nas economias avançadas, assim como a determinação presente na comunicação de importantes bancos centrais em reduzir as pressões inflacionárias. Notou-se que tal movimento eleva a volatilidade dos mercados, impactando de forma heterogênea os diferentes ativos e suscita ndo um aumento na aversão a risco. Além disso, dada a persistência do processo inflacionário n as economias avançadas e as consequentes reações de vários bancos centrais , o Comitê avalia que houve um aumento da probabilidade de cenários alternativos que incorporam uma desaceleração da atividade global mais pronunciada. Concorrem nesse sentido a incerteza sobre o cenário de energia na Europa, a dinâmica de setores mais sensíveis a juros nos Estados Unidos e as perspectivas de crescimento mais gradual na China. 10. No cenário doméstico, o Comitê avalia que políticas temporárias de apoio à renda devem trazer estímulo à demanda agregada e que o prolongamento de tais políticas pode elevar os prêmios de risco do país e as expectativas de inflação à medida que pressionam a demanda agregada e pioram a trajetória fiscal . O Comitê reitera que há vários canais pelos quais a política fiscal pode afetar a inflação, incluindo seu efeito sobre a atividade, preços de ativos e expectativas de inflação. 11. Os dados referentes ao mercado de trabalho, em especial o volume de contratações e a taxa de desocupação, surpreenderam no período e indicam um estreitamento da estimativa do hiato do produto mais célere que o antecipado. Entretanto, o Comitê avalia que ainda há ociosidade na economia. De todo modo, nota-se que avaliações sobre o hiato, especialmente no que tange ao componente ligado ao mercado de trabalho, estão sempre sujeitas à incerteza, especialmente em uma conjuntura como a atual em que a economia ainda se normaliza após a pandemia e onde há notável heterogeneidade setorial nesse processo. O Comitê seguirá acompanhando e analisando o hiato do produto à luz das próximas divulgações. O Comitê segue avaliando que a atividade deve desacelerar nos próximos trimestres, quando os impactos defasados da política monetária se fizerem mais presentes. 12. O Comitê ressalta que, em seus cenários para a inflação, permanecem fatores de risco em ambas as direções. Entre os riscos de alta para o cenário inflacionário e as expectativas de inflação, destacam -se (i) uma maior persistência das pressões inflacionárias globais; e (ii) a incerteza sobre o futuro do arcabouço fiscal do país e estímulos fiscais adicionais que impliquem sustentação da demanda agregada, parcialmente incorporados nas expectativas de inflação e nos preços de ativos. Entre os 2 e 3 de agosto 5 bcb.gov.br riscos de baixa, ressaltam-se (i) uma possível reversão, ainda que parcial, do aumento nos preços das commodities internacionais em moeda local; e (ii) uma desaceleração da atividade econômica mais acentuada do que a projetada. O Comitê pondera que a possibilidade de que medidas fiscais de estímulo à demanda se tornem permanentes acentua os riscos de alta para o cenário inflacionário. Por outro lado, nota que o aumento do risco de desaceleração da economia global também acentua os riscos de baixa. O Comitê avalia que a co njuntura ainda particularmente incerta e volátil requer serenidade na avaliação dos riscos.']\n",
      "['C) Discussão sobre a condução da política monetária 13. O Copom passou então à discussão da condução da política monetária, considerando o conjunto projeções analisado, assim como o balanço de riscos para a inflação prospectiva. 14. Seguindo sua governança usual, o horizonte relevante para a política monetária passou a se referir ao ano de 2023 e, em grau menor, ao de 2024. No entanto, nesta reunião, notou-se que as projeções de inflação para os anos de 2022 2023 estavam sujeitas a impactos elevados associados às alterações tributárias entre anos -calendário. Assim, o Comitê optou por dar ênfase à inflação acumulada em doze meses no prim eiro trimestre de 2024, que reflete o horizonte relevante, suaviza os efeitos diretos decorrentes das mudanças tributárias, mas incorpora seus impactos secundários sobre as projeções de inflação relevantes para a decisão de política monetária. 15. A projeção da inflação de doze meses no primeiro trimestre de 2024, que incorpora os efeitos secundários das alterações tributárias, assim como efeitos acumulados da manutenção da taxa de juros em patamar significativamente contracionista, é compatível com a estratégi a de convergência da inflação para o redor da meta ao longo do horizonte relevante. O Comitê notou que a projeção de inflação para o ano- calendário de 2024 também se encontra ao redor da meta estipulada. 16. O Copom iniciou sua discussão com a avaliação do ciclo de ajuste empreendido até a presente reunião. Ressaltou-se que o ciclo de aperto monetário corrente foi bastante intenso e tempestivo e que, devido às defasagens longas e variáveis d a política monetária, ainda não se observa grande parte do efeito contracionista esperado bem como seu impacto sobre a inflação corrente. Esses impactos devem ficar mais claros nos indicadores de atividade referentes ao segundo semestre , mas o Comitê antecipa que medidas de sustentação da demanda agregada, que serão implementadas no curto prazo, devem dificultar uma avaliação mais precisa sobre o estágio do ciclo econômico e dos impactos da política monetária. 17. O Comitê notou que a dinâmica inflacionária de curto prazo segue desafiadora, com avanço das medidas de inflação subjacente em ambiente de surpresas na atividade corrente, e que suas projeções seguiram se deteriorando , ainda que o cenário esteja cercado de incerteza e volatilidade acima do usual. Ressaltou-se que a elevação das expectativas e das projeções de médio prazo se concentrou na inflação de preços administrados, em função do caráter temporário de algumas medidas tributárias. 18. O Comitê avaliou, com base nas projeções utilizadas e seu balanço de riscos, que a estratégia exigida para trazer a inflação projetada para o redor da meta no horizonte relevante requeria que o ciclo de aperto monetário continuasse avançando significativamente em território ainda mais contracionista, com um ajuste adicional nesta reunião e a manutenção da taxa de juros em território significativamente contracionista por um período suficientemente prolongado. 19. O Copom então debateu as opções de política monetária para esta reunião . Concluiu-se que um novo ajuste de 0,50 ponto percentual era apropriado frente a um ambiente de elevada incerteza , apesar do estágio já significativamente contracionista da política monetária, que, considerand o suas defasagens, deve impactar a economia e de 6 mais fortemente a partir do segundo semestre deste ano . 20. O Comitê optou por sinalizar que avaliará a necessidade de um ajuste residual , de menor magnitude, na próxima reunião, com o objetivo de trazer a inflação para o redor da meta no horizonte relevante. Além disso, d ada a persistência dos choques recentes, o Comitê seguirá vigilante e avaliará se somente a perspectiva de manutenção da taxa básica de juros por um período sufic ientemente longo assegurará tal convergência. Essa estratégia foi considerada a mais adequada para garantir a convergência da inflação ao longo do horizonte relevante, assim como a ancoragem das expectativas de prazos mais longos, ao mesmo tempo que reflete o aperto monetário já empreendido, reforça a postura de cautela da política monetária e ressalta a incerteza do cenário.']\n",
      "['D) Decisão de política monetária 21. Considerando os cenários avaliados, o balanço de riscos e o amplo conjunto de informações disponíveis, o Copom decidiu, por unanimidade, elevar a taxa b ásica de juros em 0,50 ponto percentual, para 13,75% a.a. O Comitê entende que essa decisão reflete a incerteza ao redor de seus cenários e um balanço de riscos com variância ainda maior do que a usual para a inflação prospectiva, e é compatível com a estr atégia de convergência da inflação para o redor da meta ao longo do horizonte relevante, que inclui o ano de 2023 e, em grau menor, o de 2024. Sem prejuízo de seu objetivo fundamental de assegurar a estabilidade de preços, essa decisão também implica suavização das flutuações do nível de atividade econômica e fomento do pleno emprego. 22. O Copom considera que, diante de suas projeções e do risco de desancoragem das expectativas para prazos mais longos, é apropriado que o ciclo de aperto monetário continue avançando significativamente em território ainda mais contracionista. O Comitê enfatiza que irá perseverar em sua estratégia até que se consolide não apenas o processo de desinflação como também a ancoragem das expectativas em torno de suas metas. 23. O Comitê avaliará a necessidade de um ajuste residual, de menor magnitude, em sua próxima reunião. O Copom enfatiza que seguirá vigilante e que os passos futuros da política monetária poderão ser ajustados para assegurar a convergência da inflação para suas metas. Nota ainda que a incerteza da atual conjuntura, tanto doméstica quanto global, aliada ao estágio avançado do ciclo de ajuste e seus impactos acumulados ainda por serem observados, demanda cautela adicional em sua atuação. 24. Votaram por essa decisão os seguintes membros do Comitê: Roberto de Oliveira Campos Neto (presidente), Bruno Serra Fernandes, Carolina de Assis Barros, Diogo Abry Guillen, Fernanda Magalhães Rumenos Guardado, Maurício Costa de Moura, Otávio Ribeiro Damaso, Paulo Sérgio Neves de Souza e Renato Dias de Brito Gomes.']\n"
     ]
    }
   ],
   "source": [
    "for g in range (1, 5):\n",
    "    if items[g] == \"A\":\n",
    "        parte_texto = A\n",
    "    elif items[g] == \"B\":\n",
    "        parte_texto = B\n",
    "    elif items[g] == \"C\":\n",
    "        parte_texto = C\n",
    "    elif items[g] == \"D\":\n",
    "        parte_texto = D\n",
    "\n",
    "    remove_noise(parte_texto)\n",
    "   \n"
   ]
  },
  {
   "cell_type": "markdown",
   "id": "1bbbfa5b",
   "metadata": {},
   "source": [
    "# Recovering data from files"
   ]
  },
  {
   "cell_type": "code",
   "execution_count": 1,
   "id": "da7f9321",
   "metadata": {},
   "outputs": [],
   "source": [
    "items_cleaned = {1: \"a\", 2: \"b\", 3: \"c\", 4: \"d\"}  \n",
    "\n",
    "for h in range (1, 5):\n",
    "    if items_cleaned[h] == \"a\":\n",
    "        letra = 'a'\n",
    "    elif items_cleaned[h] == \"b\":\n",
    "        letra = 'b'\n",
    "    elif items_cleaned[h] == \"c\":\n",
    "        letra = 'c'\n",
    "    elif items_cleaned[h] == \"d\":\n",
    "        letra = 'd'\n",
    "        \n",
    "    dc1 = 'items_'\n",
    "    dc3 = '.txt' \n",
    "    \n",
    "    file_name = dc1+letra+dc3\n",
    "     \n",
    "    sel = open(file_name, 'r')\n",
    "    if file_name == 'items_a.txt':\n",
    "        tA = sel.read()    \n",
    "    if file_name == 'items_b.txt':\n",
    "        tB = sel.read()    \n",
    "    if file_name == 'items_c.txt':\n",
    "        tC = sel.read()    \n",
    "    if file_name == 'items_d.txt':\n",
    "        tD = sel.read()    \n",
    "    sel.close()\n"
   ]
  },
  {
   "cell_type": "markdown",
   "id": "64e00b81",
   "metadata": {},
   "source": [
    "## Sentiment analysis or opinion mining"
   ]
  },
  {
   "cell_type": "code",
   "execution_count": 2,
   "id": "50712767",
   "metadata": {},
   "outputs": [],
   "source": [
    "# leia was obtained by: https://github.com/rafjaa/LeIA\n",
    "from leia import SentimentIntensityAnalyzer "
   ]
  },
  {
   "cell_type": "code",
   "execution_count": 3,
   "id": "d04ecffe",
   "metadata": {},
   "outputs": [],
   "source": [
    "s = SentimentIntensityAnalyzer()"
   ]
  },
  {
   "cell_type": "code",
   "execution_count": 6,
   "id": "5157bb38",
   "metadata": {},
   "outputs": [],
   "source": [
    "# Item sentiment analysis with VADER\n",
    "a_item = s.polarity_scores(tA)\n",
    "b_item = s.polarity_scores(tB)\n",
    "c_item = s.polarity_scores(tC)\n",
    "d_item = s.polarity_scores(tD)"
   ]
  },
  {
   "cell_type": "markdown",
   "id": "93df1977",
   "metadata": {},
   "source": [
    "## Plotting the sentiment analysis data"
   ]
  },
  {
   "cell_type": "code",
   "execution_count": 101,
   "id": "aa0f8c72",
   "metadata": {},
   "outputs": [],
   "source": [
    "title_a = 'A) Atualização da conjuntura econômica e do cenário do Copom'\n",
    "title_b = 'B) Cenários e análise de riscos'\n",
    "title_c = 'C) Discussão sobre a condução da política monetária'\n",
    "title_d = 'D) Decisão de política monetária'\n",
    "titles = [title_a, title_b, title_c, title_d]"
   ]
  },
  {
   "cell_type": "code",
   "execution_count": 102,
   "id": "81817c42",
   "metadata": {},
   "outputs": [
    {
     "name": "stdout",
     "output_type": "stream",
     "text": [
      "[[0.09, 0.824, 0.085], [0.124, 0.782, 0.094], [0.073, 0.884, 0.044], [0.126, 0.834, 0.039]]\n"
     ]
    }
   ],
   "source": [
    "to_box_a = [a_item['neg'], a_item['neu'], a_item['pos']]\n",
    "to_box_b = [b_item['neg'], b_item['neu'], b_item['pos']]\n",
    "to_box_c = [c_item['neg'], c_item['neu'], c_item['pos']]\n",
    "to_box_d = [d_item['neg'], d_item['neu'], d_item['pos']]\n",
    "to_box = [to_box_a, to_box_b, to_box_c, to_box_d]\n",
    "print(to_box)"
   ]
  },
  {
   "cell_type": "code",
   "execution_count": 103,
   "id": "7b7dba2b",
   "metadata": {},
   "outputs": [],
   "source": [
    "import pandas as pd \n",
    "import numpy as np \n",
    "import matplotlib.pyplot as plt \n",
    "import seaborn as sns \n"
   ]
  },
  {
   "cell_type": "code",
   "execution_count": 104,
   "id": "4fe5d51a",
   "metadata": {},
   "outputs": [
    {
     "data": {
      "text/plain": [
       "[Text(0.5, 1.0, 'A) Atualização da conjuntura econômica e do cenário do Copom')]"
      ]
     },
     "execution_count": 104,
     "metadata": {},
     "output_type": "execute_result"
    },
    {
     "data": {
      "image/png": "[encoded data removed]",
      "text/plain": [
       "<Figure size 432x288 with 1 Axes>"
      ]
     },
     "metadata": {
      "needs_background": "light"
     },
     "output_type": "display_data"
    }
   ],
   "source": [
    "# A) Atualização da conjuntura econômica e do cenário do Copom\n",
    "sent_scala = ['negative', 'neutral', 'positive'] \n",
    "\n",
    "df = pd.DataFrame({\"\": to_box[0], \"sentiment\": sent_scala}) \n",
    "clrs = ['red', 'gray', 'blue']\n",
    "sns.barplot(x=\"sentiment\", \n",
    "            y=\"\", data=df, palette=clrs).set(title=titles[0]) "
   ]
  },
  {
   "cell_type": "code",
   "execution_count": 105,
   "id": "b86aef9c",
   "metadata": {},
   "outputs": [
    {
     "data": {
      "text/plain": [
       "[Text(0.5, 1.0, 'B) Cenários e análise de riscos')]"
      ]
     },
     "execution_count": 105,
     "metadata": {},
     "output_type": "execute_result"
    },
    {
     "data": {
      "image/png": "[encoded data removed]",
      "text/plain": [
       "<Figure size 432x288 with 1 Axes>"
      ]
     },
     "metadata": {
      "needs_background": "light"
     },
     "output_type": "display_data"
    }
   ],
   "source": [
    "# B) Cenários e análise de riscos\n",
    "df = pd.DataFrame({\"\": to_box[1], \"sentiment\": sent_scala}) \n",
    "clrs = ['red', 'gray', 'blue']\n",
    "sns.barplot(x=\"sentiment\", \n",
    "            y=\"\", data=df, palette=clrs).set(title=titles[1]) "
   ]
  },
  {
   "cell_type": "code",
   "execution_count": 106,
   "id": "9154ab02",
   "metadata": {},
   "outputs": [
    {
     "data": {
      "text/plain": [
       "[Text(0.5, 1.0, 'C) Discussão sobre a condução da política monetária')]"
      ]
     },
     "execution_count": 106,
     "metadata": {},
     "output_type": "execute_result"
    },
    {
     "data": {
      "image/png": "[encoded data removed]",
      "text/plain": [
       "<Figure size 432x288 with 1 Axes>"
      ]
     },
     "metadata": {
      "needs_background": "light"
     },
     "output_type": "display_data"
    }
   ],
   "source": [
    "# C) Discussão sobre a condução da política monetária\n",
    "df = pd.DataFrame({\"\": to_box[2], \"sentiment\": sent_scala}) \n",
    "clrs = ['red', 'gray', 'blue']\n",
    "sns.barplot(x=\"sentiment\", \n",
    "            y=\"\", data=df, palette=clrs).set(title=titles[2]) "
   ]
  },
  {
   "cell_type": "code",
   "execution_count": 107,
   "id": "3a6704b3",
   "metadata": {},
   "outputs": [
    {
     "data": {
      "text/plain": [
       "[Text(0.5, 1.0, 'D) Decisão de política monetária')]"
      ]
     },
     "execution_count": 107,
     "metadata": {},
     "output_type": "execute_result"
    },
    {
     "data": {
      "image/png": "[encoded data removed]",
      "text/plain": [
       "<Figure size 432x288 with 1 Axes>"
      ]
     },
     "metadata": {
      "needs_background": "light"
     },
     "output_type": "display_data"
    }
   ],
   "source": [
    "# D) Decisão de política monetária\n",
    "df = pd.DataFrame({\"\": to_box[3], \"sentiment\": sent_scala}) \n",
    "clrs = ['red', 'gray', 'blue']\n",
    "sns.barplot(x=\"sentiment\", \n",
    "            y=\"\", data=df, palette=clrs).set(title=titles[3]) "
   ]
  },
  {
   "cell_type": "markdown",
   "id": "7976bdaf",
   "metadata": {},
   "source": [
    "## General sentiment of the items found in the COPOM meeting "
   ]
  },
  {
   "cell_type": "code",
   "execution_count": 108,
   "id": "7296dbee",
   "metadata": {},
   "outputs": [],
   "source": [
    "# This part focuses on the compound \n",
    "ca = a_item['compound']\n",
    "cb = b_item['compound']\n",
    "cc = c_item['compound']\n",
    "cd = d_item['compound']\n",
    "compounds = [ca, cb, cc, cd]"
   ]
  },
  {
   "cell_type": "code",
   "execution_count": 109,
   "id": "5222f531",
   "metadata": {},
   "outputs": [],
   "source": [
    "# The score indicates how negative or positive the overall text analyzed is. \n",
    "# Anything below a score of -0.05 we tag as negative and anything above 0.05 we tag as positive. \n",
    "# Anything in between inclusively, we tag as neutral.\n",
    "conclusion = []\n",
    "for y in range(len(compounds)):\n",
    "    if compounds[y] < -0.05:\n",
    "        conclusion.append('Negative')\n",
    "    elif compounds[y] > 0.05:\n",
    "        conclusion.append('Positive')\n",
    "    else:    \n",
    "        conclusion.append('Neutral')"
   ]
  },
  {
   "cell_type": "code",
   "execution_count": 110,
   "id": "b5ca1439",
   "metadata": {},
   "outputs": [],
   "source": [
    "d = {'titles': titles, 'compounds': compounds, 'conclusion': conclusion}\n",
    "copom_ound = pd.DataFrame(d)"
   ]
  },
  {
   "cell_type": "code",
   "execution_count": 111,
   "id": "d8d2bb59",
   "metadata": {},
   "outputs": [
    {
     "name": "stdout",
     "output_type": "stream",
     "text": [
      "                                              titles  compounds conclusion\n",
      "0  A) Atualização da conjuntura econômica e do ce...     0.4118   Positive\n",
      "1                    B) Cenários e análise de riscos    -0.9620   Negative\n",
      "2  C) Discussão sobre a condução da política mone...    -0.8807   Negative\n",
      "3                   D) Decisão de política monetária    -0.9682   Negative\n"
     ]
    }
   ],
   "source": [
    "print(copom_ound)"
   ]
  }
 ],
 "metadata": {
  "kernelspec": {
   "display_name": "Python 3 (ipykernel)",
   "language": "python",
   "name": "python3"
  },
  "language_info": {
   "codemirror_mode": {
    "name": "ipython",
    "version": 3
   },
   "file_extension": ".py",
   "mimetype": "text/x-python",
   "name": "python",
   "nbconvert_exporter": "python",
   "pygments_lexer": "ipython3",
   "version": "3.9.12"
  }
 },
 "nbformat": 4,
 "nbformat_minor": 5
}
